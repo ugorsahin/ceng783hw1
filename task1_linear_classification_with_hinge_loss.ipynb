{
 "cells": [
  {
   "cell_type": "markdown",
   "metadata": {},
   "source": [
    "# Linear Classification with Hinge-Loss\n",
    "\n",
    "In this exercise, you will implement and train a linear classifier using hinge loss.\n",
    "\n",
    "Please complete all cells and answer questions asked in the cells if you want to get a full grade.\n"
   ]
  },
  {
   "cell_type": "code",
   "execution_count": 1,
   "metadata": {},
   "outputs": [],
   "source": [
    "# Run some setup code for this notebook.\n",
    "\n",
    "import random\n",
    "import numpy as np\n",
    "import matplotlib.pyplot as plt\n",
    "\n",
    "# This is a bit of magic to make matplotlib figures appear inline in the\n",
    "# notebook rather than in a new window.\n",
    "%matplotlib inline\n",
    "plt.rcParams['figure.figsize'] = (10.0, 8.0) # set default size of plots\n",
    "plt.rcParams['image.interpolation'] = 'nearest'\n",
    "plt.rcParams['image.cmap'] = 'gray'\n",
    "\n",
    "# Some more magic so that the notebook will reload external python modules;\n",
    "# see http://stackoverflow.com/questions/1907993/autoreload-of-modules-in-ipython\n",
    "%load_ext autoreload\n",
    "%autoreload 2"
   ]
  },
  {
   "cell_type": "markdown",
   "metadata": {},
   "source": [
    "## Loading the MNIST Dataset\n",
    "\n",
    "MNIST (http://yann.lecun.com/exdb/mnist/) is one of the popular datasets used for testing machine learning models. It contains hand-written digits as grayscale images with 28x28 resolution. There are 60,000 samples for training (10,000 of which is usually used for validation), and 10,000 for testing. Although there are more challenging datasets available, MNIST is a good starting point for testing early versions of the models and as a sanity check.\n",
    "\n",
    "Since more challenging datasets require more memory and lead to bigger models that require more computational power, we will stick with the MNIST dataset for the first HW."
   ]
  },
  {
   "cell_type": "code",
   "execution_count": 2,
   "metadata": {},
   "outputs": [
    {
     "name": "stdout",
     "output_type": "stream",
     "text": [
      "Training data shape:  (50000, 784)\n",
      "Training labels shape:  (50000,)\n",
      "Validation data shape:  (10000, 784)\n",
      "Validation labels shape:  (10000,)\n",
      "Test data shape:  (10000, 784)\n",
      "Test labels shape:  (10000,)\n"
     ]
    }
   ],
   "source": [
    "# First run the \"get_data.sh\" under metu/data/ in your terminal.\n",
    "# Then this cell will load the raw MNIST data.\n",
    "#\n",
    "#\n",
    "from ceng783.utils import load_mnist\n",
    "mnist_file = 'ceng783/data/mnist.pkl.gz'\n",
    "X_train, y_train, X_val, y_val, X_test, y_test = load_mnist(mnist_file)\n",
    "\n",
    "# As a sanity check, we print out the size of the training and test data.\n",
    "print('Training data shape: ', X_train.shape)\n",
    "print('Training labels shape: ', y_train.shape)\n",
    "print('Validation data shape: ', X_val.shape)\n",
    "print('Validation labels shape: ', y_val.shape)\n",
    "print('Test data shape: ', X_test.shape)\n",
    "print('Test labels shape: ', y_test.shape)"
   ]
  },
  {
   "cell_type": "code",
   "execution_count": 3,
   "metadata": {},
   "outputs": [
    {
     "data": {
      "image/png": "[encoded data removed]",
      "text/plain": [
       "<Figure size 432x288 with 10 Axes>"
      ]
     },
     "metadata": {
      "needs_background": "light"
     },
     "output_type": "display_data"
    }
   ],
   "source": [
    "# Visualize some examples from the dataset.\n",
    "# \n",
    "classes = ['0', '1', '2', '3', '4', '5', '6', '7', '8', '9']\n",
    "num_classes = len(classes)\n",
    "samples_per_class = 1\n",
    "for y, cls in enumerate(classes):\n",
    "    idxs = np.flatnonzero(y_train == y)\n",
    "    idxs = np.random.choice(idxs, samples_per_class, replace=False)\n",
    "    for i, idx in enumerate(idxs):\n",
    "        plt_idx = i * num_classes + y + 1\n",
    "        plt.subplot(samples_per_class, num_classes, plt_idx)\n",
    "        #plt.imshow(X_train[idx].astype('uint8'))\n",
    "        img_2d = np.reshape(X_train[idx], (28, 28))\n",
    "        plt.imshow(img_2d, cmap=plt.get_cmap('gray'))\n",
    "        plt.axis('off')\n",
    "        if i == 0:\n",
    "            plt.title(cls)\n",
    "plt.show()"
   ]
  },
  {
   "cell_type": "code",
   "execution_count": 4,
   "metadata": {},
   "outputs": [
    {
     "name": "stdout",
     "output_type": "stream",
     "text": [
      "Train data shape:  (9999, 784)\n",
      "Train labels shape:  (9999,)\n",
      "Validation data shape:  (999, 784)\n",
      "Validation labels shape:  (999,)\n",
      "Test data shape:  (999, 784)\n",
      "Test labels shape:  (999,)\n"
     ]
    }
   ],
   "source": [
    "# Subsample the data for faster experiments in this exercise.\n",
    "num_training = 10000\n",
    "num_validation = 1000\n",
    "num_test = 1000\n",
    "\n",
    "X_train = X_train[1:num_training]\n",
    "y_train = y_train[1:num_training]\n",
    "\n",
    "X_val = X_val[1:num_validation]\n",
    "y_val = y_val[1:num_validation]\n",
    "\n",
    "X_test = X_test[1:num_test]\n",
    "y_test = y_test[1:num_test]\n",
    "\n",
    "print('Train data shape: ', X_train.shape)\n",
    "print('Train labels shape: ', y_train.shape)\n",
    "print('Validation data shape: ', X_val.shape)\n",
    "print('Validation labels shape: ', y_val.shape)\n",
    "print('Test data shape: ', X_test.shape)\n",
    "print('Test labels shape: ', y_test.shape)"
   ]
  },
  {
   "cell_type": "code",
   "execution_count": 5,
   "metadata": {},
   "outputs": [
    {
     "name": "stdout",
     "output_type": "stream",
     "text": [
      "[0. 0. 0. 0. 0. 0. 0. 0. 0. 0.]\n"
     ]
    },
    {
     "data": {
      "text/plain": [
       "<matplotlib.image.AxesImage at 0x16ea381bda0>"
      ]
     },
     "execution_count": 5,
     "metadata": {},
     "output_type": "execute_result"
    },
    {
     "data": {
      "image/png": "[encoded data removed]",
      "text/plain": [
       "<Figure size 288x288 with 1 Axes>"
      ]
     },
     "metadata": {
      "needs_background": "light"
     },
     "output_type": "display_data"
    }
   ],
   "source": [
    "# Preprocessing: subtract the mean image\n",
    "# first: compute the image mean based on the training data\n",
    "mean_image = np.mean(X_train, axis=0)\n",
    "print (mean_image[:10]) # print a few of the elements\n",
    "plt.figure(figsize=(4,4))\n",
    "plt.imshow(mean_image.reshape((28,28))) # visualize the mean image"
   ]
  },
  {
   "cell_type": "code",
   "execution_count": 6,
   "metadata": {},
   "outputs": [],
   "source": [
    "# second: subtract the mean image from train and test data\n",
    "X_train -= mean_image\n",
    "X_val -= mean_image\n",
    "X_test -= mean_image"
   ]
  },
  {
   "cell_type": "code",
   "execution_count": 7,
   "metadata": {},
   "outputs": [
    {
     "name": "stdout",
     "output_type": "stream",
     "text": [
      "(9999, 784) (999, 784) (999, 784)\n",
      "(9999, 785) (999, 785) (999, 785)\n"
     ]
    }
   ],
   "source": [
    "# third: append the bias dimension of ones (i.e. bias trick) so that our SVM\n",
    "# only has to worry about optimizing a single weight matrix W.\n",
    "# Also, lets transform both data matrices so that each image is a column.\n",
    "print(X_train.shape, X_val.shape, X_test.shape)\n",
    "X_train = np.hstack([X_train, np.ones((X_train.shape[0], 1))])\n",
    "X_val = np.hstack([X_val, np.ones((X_val.shape[0], 1))])\n",
    "X_test = np.hstack([X_test, np.ones((X_test.shape[0], 1))])\n",
    "\n",
    "print(X_train.shape, X_val.shape, X_test.shape)"
   ]
  },
  {
   "cell_type": "markdown",
   "metadata": {},
   "source": [
    "## Linear Classifier with Hinge Loss\n",
    "Your code for this section will all be written inside **ceng783/linear_classification.py**. \n",
    "\n",
    "As you can see, we have prefilled the function `naive_hinge_loss` which uses for loops to evaluate the multiclass hinge loss."
   ]
  },
  {
   "cell_type": "code",
   "execution_count": 8,
   "metadata": {
    "scrolled": true
   },
   "outputs": [
    {
     "name": "stdout",
     "output_type": "stream",
     "text": [
      "loss: 9.001021\n"
     ]
    }
   ],
   "source": [
    "# Evaluate the naive implementation of the loss we provided for you:\n",
    "from ceng783.linear_classification import *\n",
    "\n",
    "input_size = X_train[0].shape[0]\n",
    "output_size = 10\n",
    "\n",
    "LC = LinearClassifier(input_size, output_size) # initializes the weights to random small numbers\n",
    "\n",
    "loss, grad = LC.naive_hinge_loss(X_train, y_train, delta=1)\n",
    "\n",
    "print ('loss: %f' % (loss, ))"
   ]
  },
  {
   "cell_type": "markdown",
   "metadata": {},
   "source": [
    "The `grad` returned from the function above is right now all zero. Derive and implement the gradient for the hinge-loss function and implement it inline inside the function `naive_hinge_loss`. You will find it helpful to interleave your new code inside the existing function.\n",
    "\n",
    "To check that you have correctly implemented the gradient correctly, you can numerically estimate the gradient of the loss function and compare the numeric estimate to the gradient that you computed. We have provided code that does this for you:"
   ]
  },
  {
   "cell_type": "code",
   "execution_count": 9,
   "metadata": {
    "scrolled": true
   },
   "outputs": [
    {
     "name": "stderr",
     "output_type": "stream",
     "text": [
      "C:\\Users\\pengu\\Desktop\\HW1\\ceng783\\utils.py:72: RuntimeWarning: invalid value encountered in double_scalars\n",
      "  rel_error = abs(grad_numerical - grad_analytic) / (abs(grad_numerical) + abs(grad_analytic))\n"
     ]
    },
    {
     "name": "stdout",
     "output_type": "stream",
     "text": [
      "numerical: 0.000000 analytic: 0.000000, relative error: nan\n",
      "numerical: 0.001476 analytic: 0.001476, relative error: 1.410738e-06\n",
      "numerical: -0.068939 analytic: -0.068939, relative error: 9.670516e-09\n",
      "numerical: 0.000000 analytic: 0.000000, relative error: nan\n",
      "numerical: -0.247150 analytic: -0.247150, relative error: 2.611072e-10\n",
      "numerical: 0.000000 analytic: 0.000000, relative error: nan\n",
      "numerical: 0.000367 analytic: 0.000367, relative error: 7.815186e-08\n",
      "numerical: 0.001856 analytic: 0.001856, relative error: 1.084074e-07\n",
      "numerical: -0.023917 analytic: -0.023917, relative error: 5.472392e-08\n",
      "numerical: 0.000139 analytic: 0.000139, relative error: 5.765149e-06\n"
     ]
    }
   ],
   "source": [
    "# Once you've implemented the gradient, recompute it with the code below\n",
    "# and gradient check it with the function we provided for you\n",
    "\n",
    "W = 1e-4 * np.random.randn(output_size, input_size)\n",
    "\n",
    "# Compute the loss and its gradient at W.\n",
    "loss, grad = LC.naive_hinge_loss(X_train, y_train, W=W, reg=0.0, delta=1)\n",
    "\n",
    "# Numerically compute the gradient along several randomly chosen dimensions, and\n",
    "# compare them with your analytically computed gradient. The numbers should match\n",
    "# almost exactly along all dimensions.\n",
    "from ceng783.utils import grad_check_sparse\n",
    "f = lambda w: LC.naive_hinge_loss(X_train, y_train, W=w, reg=0.0)[0]\n",
    "grad_numerical = grad_check_sparse(f, W, grad, 10)\n",
    "\n",
    "# You should see differences on the order of 10^-7, 10^-8"
   ]
  },
  {
   "cell_type": "code",
   "execution_count": 10,
   "metadata": {
    "scrolled": true
   },
   "outputs": [
    {
     "name": "stdout",
     "output_type": "stream",
     "text": [
      "Naive loss: 9.000975e+00 computed in 0.322175s\n",
      "Vectorized loss: 9.000975e+00 computed in 0.015921s\n",
      "difference: 0.000000\n"
     ]
    }
   ],
   "source": [
    "# Next implement the function vectorized_hinge_loss; for now only compute the loss;\n",
    "# we will implement the gradient in a moment.\n",
    "import time\n",
    "tic = time.time()\n",
    "loss_naive, grad_naive = LC.naive_hinge_loss(X_train, y_train, W=W)\n",
    "toc = time.time()\n",
    "print('Naive loss: %e computed in %fs' % (loss_naive, toc - tic))\n",
    "\n",
    "tic = time.time()\n",
    "loss_vectorized, _ = LC.vectorized_hinge_loss(X_train, y_train, W=W)\n",
    "toc = time.time()\n",
    "print('Vectorized loss: %e computed in %fs' % (loss_vectorized, toc - tic))\n",
    "\n",
    "# The losses should match but your vectorized implementation should be much faster.\n",
    "print('difference: %f' % (loss_naive - loss_vectorized))\n",
    "# You should get zero difference"
   ]
  },
  {
   "cell_type": "code",
   "execution_count": 11,
   "metadata": {},
   "outputs": [
    {
     "name": "stdout",
     "output_type": "stream",
     "text": [
      "Naive loss and gradient: computed in 0.320141s\n",
      "Vectorized loss and gradient: computed in 0.016923s\n",
      "difference: 0.000000\n"
     ]
    }
   ],
   "source": [
    "# Complete the implementation of vectorized_hinge_loss, and compute the gradient\n",
    "# of the loss function in a vectorized way.\n",
    "\n",
    "# The naive implementation and the vectorized implementation should match, but\n",
    "# the vectorized version should still be much faster.\n",
    "tic = time.time()\n",
    "_, grad_naive = LC.naive_hinge_loss(X_train, y_train, W=W)\n",
    "toc = time.time()\n",
    "print ('Naive loss and gradient: computed in %fs' % (toc - tic))\n",
    "\n",
    "tic = time.time()\n",
    "_, grad_vectorized = LC.vectorized_hinge_loss(X_train, y_train, W=W)\n",
    "toc = time.time()\n",
    "print ('Vectorized loss and gradient: computed in %fs' % (toc - tic))\n",
    "\n",
    "# The loss is a single number, so it is easy to compare the values computed\n",
    "# by the two implementations. The gradient on the other hand is a matrix, so\n",
    "# we use the Frobenius norm to compare them.\n",
    "difference = np.linalg.norm(grad_naive - grad_vectorized, ord='fro')\n",
    "print ('difference: %f' % difference)"
   ]
  },
  {
   "cell_type": "markdown",
   "metadata": {},
   "source": [
    "### Stochastic Gradient Descent\n",
    "\n",
    "We now have vectorized and efficient expressions for the loss, the gradient and our gradient matches the numerical gradient. We are therefore ready to do SGD to minimize the loss."
   ]
  },
  {
   "cell_type": "code",
   "execution_count": 23,
   "metadata": {
    "scrolled": false
   },
   "outputs": [
    {
     "name": "stdout",
     "output_type": "stream",
     "text": [
      "iteration 1499 / 1500: loss 0.703019\n",
      "\n",
      "That took 0.599396s\n"
     ]
    }
   ],
   "source": [
    "# Now implement SGD in LinearClassifier.train() function and run it with the code below\n",
    "from ceng783.linear_classification import *\n",
    "\n",
    "tic = time.time()\n",
    "\n",
    "LC = LinearClassifier(input_size, output_size)\n",
    "\n",
    "stats = LC.train(X_train, y_train, X_val, y_val, learning_rate=0.001, reg=0.0001, delta=1,\n",
    "                      num_iters=1500, batch_size=32, loss='hinge', verbose=True)\n",
    "toc = time.time()\n",
    "print ('That took %fs' % (toc - tic))\n"
   ]
  },
  {
   "cell_type": "code",
   "execution_count": 24,
   "metadata": {
    "scrolled": true
   },
   "outputs": [
    {
     "data": {
      "text/plain": [
       "Text(0, 0.5, 'Loss value')"
      ]
     },
     "execution_count": 24,
     "metadata": {},
     "output_type": "execute_result"
    },
    {
     "data": {
      "image/png": "[encoded data removed]",
      "text/plain": [
       "<Figure size 432x288 with 1 Axes>"
      ]
     },
     "metadata": {
      "needs_background": "light"
     },
     "output_type": "display_data"
    }
   ],
   "source": [
    "# A useful debugging strategy is to plot the loss as a function of\n",
    "# iteration number:\n",
    "plt.plot(stats['loss_history'])\n",
    "plt.xlabel('Iteration number')\n",
    "plt.ylabel('Loss value')"
   ]
  },
  {
   "cell_type": "code",
   "execution_count": 25,
   "metadata": {
    "scrolled": true
   },
   "outputs": [
    {
     "name": "stdout",
     "output_type": "stream",
     "text": [
      "training accuracy: 0.882588\n",
      "validation accuracy: 0.861862\n"
     ]
    }
   ],
   "source": [
    "# Write the LinearSVM.predict function and evaluate the performance on both the\n",
    "# training and validation set\n",
    "y_train_pred = LC.predict(X_train)\n",
    "print ('training accuracy: %f' % (np.mean(y_train == y_train_pred), ))\n",
    "y_val_pred = LC.predict(X_val)\n",
    "print ('validation accuracy: %f' % (np.mean(y_val == y_val_pred), ))"
   ]
  },
  {
   "cell_type": "code",
   "execution_count": 26,
   "metadata": {
    "scrolled": true
   },
   "outputs": [
    {
     "name": "stdout",
     "output_type": "stream",
     "text": [
      "iteration 1499 / 1500: loss 0.545020\n",
      "\n",
      "iteration 1499 / 1500: loss 0.701555\n",
      "\n",
      "iteration 1499 / 1500: loss 0.589461\n",
      "\n",
      "iteration 1499 / 1500: loss 0.772255\n",
      "\n",
      "iteration 1499 / 1500: loss 0.549549\n",
      "\n",
      "iteration 1499 / 1500: loss 0.669792\n",
      "\n",
      "iteration 1499 / 1500: loss 8.983267\n",
      "\n",
      "iteration 1499 / 1500: loss 8.986308\n",
      "\n",
      "iteration 1499 / 1500: loss 8.983824\n",
      "\n",
      "iteration 1499 / 1500: loss 8.983019\n",
      "\n",
      "iteration 1499 / 1500: loss 8.983071\n",
      "\n",
      "iteration 1499 / 1500: loss 8.986048\n",
      "\n",
      "iteration 1499 / 1500: loss 3.269019\n",
      "\n",
      "iteration 1499 / 1500: loss 4.129346\n",
      "\n",
      "iteration 1499 / 1500: loss 2.919229\n",
      "\n",
      "iteration 1499 / 1500: loss 3.561672\n",
      "\n",
      "iteration 1499 / 1500: loss 3.226649\n",
      "\n",
      "iteration 1499 / 1500: loss 3.224665\n",
      "\n",
      "delta 1 lr 1.000000e-07 reg 1.000000e-05 train accuracy: 0.468750 val accuracy: 0.437437\n",
      "delta 1 lr 1.000000e-07 reg 5.000000e-03 train accuracy: 0.625000 val accuracy: 0.523524\n",
      "delta 1 lr 5.000000e-05 reg 1.000000e-05 train accuracy: 0.875000 val accuracy: 0.713714\n",
      "delta 1 lr 5.000000e-05 reg 5.000000e-03 train accuracy: 0.718750 val accuracy: 0.716717\n",
      "delta 1 lr 1.000000e-03 reg 1.000000e-05 train accuracy: 0.968750 val accuracy: 0.860861\n",
      "delta 1 lr 1.000000e-03 reg 5.000000e-03 train accuracy: 0.937500 val accuracy: 0.853854\n",
      "delta 2 lr 1.000000e-07 reg 1.000000e-05 train accuracy: 0.531250 val accuracy: 0.563564\n",
      "delta 2 lr 1.000000e-07 reg 5.000000e-03 train accuracy: 0.531250 val accuracy: 0.503504\n",
      "delta 2 lr 5.000000e-05 reg 1.000000e-05 train accuracy: 0.843750 val accuracy: 0.722723\n",
      "delta 2 lr 5.000000e-05 reg 5.000000e-03 train accuracy: 0.812500 val accuracy: 0.724725\n",
      "delta 2 lr 1.000000e-03 reg 1.000000e-05 train accuracy: 0.718750 val accuracy: 0.854855\n",
      "delta 2 lr 1.000000e-03 reg 5.000000e-03 train accuracy: 0.937500 val accuracy: 0.857858\n",
      "delta 3 lr 1.000000e-07 reg 1.000000e-05 train accuracy: 0.531250 val accuracy: 0.444444\n",
      "delta 3 lr 1.000000e-07 reg 5.000000e-03 train accuracy: 0.593750 val accuracy: 0.487487\n",
      "delta 3 lr 5.000000e-05 reg 1.000000e-05 train accuracy: 0.812500 val accuracy: 0.716717\n",
      "delta 3 lr 5.000000e-05 reg 5.000000e-03 train accuracy: 0.781250 val accuracy: 0.720721\n",
      "delta 3 lr 1.000000e-03 reg 1.000000e-05 train accuracy: 0.968750 val accuracy: 0.857858\n",
      "delta 3 lr 1.000000e-03 reg 5.000000e-03 train accuracy: 0.937500 val accuracy: 0.856857\n"
     ]
    }
   ],
   "source": [
    "from ceng783.linear_classification import *\n",
    "import itertools\n",
    "\n",
    "# Use the validation set to tune hyperparameters (delta, regularization strength and\n",
    "# learning rate). You should experiment with different ranges for the learning\n",
    "# rates and regularization strengths; if you are careful you should be able to\n",
    "# get a classification accuracy of about 0.4 on the validation set.\n",
    "learning_rates = [1e-3, 1e-7, 5e-5]\n",
    "regularization_strengths = [5e-3, 1e-5]\n",
    "delta_ranges = [1, 2, 3]\n",
    "\n",
    "arg_all = [learning_rates,regularization_strengths,delta_ranges]\n",
    "\n",
    "# results is dictionary mapping tuples of the form\n",
    "# (delta, learning_rate, regularization_strength) to tuples of the form\n",
    "# (training_accuracy, validation_accuracy). The accuracy is simply the fraction\n",
    "# of data points that are correctly classified.\n",
    "results = {}\n",
    "best_val = -1   # The highest validation accuracy that we have seen so far.\n",
    "best_LC = None # The LinearClassifier object that achieved the highest validation rate.\n",
    "\n",
    "################################################################################\n",
    "# TODO:                                                                        #\n",
    "# Write code that chooses the best hyperparameters by tuning on the validation #\n",
    "# set. For each combination of hyperparameters, train a linear Classifier on   #\n",
    "# the training set, compute its accuracy on the training and validation sets,  #\n",
    "# and store these numbers in the results dictionary. In addition, store the    #\n",
    "# best validation accuracy in best_val and the LinearClassifier object that    #\n",
    "# achieves this accuracy in best_svm.                                          #\n",
    "#                                                                              #\n",
    "# Hint: You should use a small value for num_iters as you develop your         #\n",
    "# validation code so that the models don't take much time to train; once you   #\n",
    "# are confident that your validation code works, you should rerun the          #\n",
    "# validation  code with a larger value for num_iters.                          #\n",
    "################################################################################\n",
    "ctr = 0\n",
    "for lr,reg,delta in itertools.product(learning_rates,regularization_strengths,delta_ranges):\n",
    "    ctr +=1\n",
    "    LC  = LinearClassifier(input_size, output_size)\n",
    "    res = LC.train(X_train, y_train, X_val, y_val, learning_rate=lr, reg=reg, delta=delta,\n",
    "                      num_iters=1500, batch_size=32, loss='hinge', verbose=True)\n",
    "    res[\"ptr\"] = LC\n",
    "    results[(delta,lr,reg)] = res\n",
    "    \n",
    "################################################################################\n",
    "#                              END OF YOUR CODE                                #\n",
    "################################################################################\n",
    "    \n",
    "# Print out results.\n",
    "for delta, lr, reg in sorted(results):\n",
    "    train_accuracy, val_accuracy = results[(delta, lr, reg)][\"train_acc_history\"][-1],results[(delta, lr, reg)][\"val_acc_history\"][-1]\n",
    "    print('delta %d lr %e reg %e train accuracy: %f val accuracy: %f' % (\n",
    "                delta, lr, reg, train_accuracy, val_accuracy))\n",
    "    if val_accuracy > best_val:\n",
    "        best_del = delta\n",
    "        best_reg = reg\n",
    "        best_lr  = lr\n",
    "        best_val = val_accuracy\n",
    "        best_LC  = results[(delta,lr,reg)][\"ptr\"]"
   ]
  },
  {
   "cell_type": "code",
   "execution_count": 27,
   "metadata": {},
   "outputs": [
    {
     "data": {
      "text/plain": [
       "Text(0.5, 1.0, 'MNIST validation accuracy')"
      ]
     },
     "execution_count": 27,
     "metadata": {},
     "output_type": "execute_result"
    },
    {
     "data": {
      "image/png": "[encoded data removed]",
      "text/plain": [
       "<Figure size 432x288 with 2 Axes>"
      ]
     },
     "metadata": {
      "needs_background": "light"
     },
     "output_type": "display_data"
    }
   ],
   "source": [
    "# Visualize the cross-validation results\n",
    "import math\n",
    "x_scatter = [math.log10(x[0]) for x in results]\n",
    "y_scatter = [math.log10(x[1]) for x in results]\n",
    "# plot training accuracy\n",
    "sz = [results[x][\"train_acc_history\"]*1500 for x in results] # default size of markers is 20\n",
    "plt.subplot(1,2,1)\n",
    "plt.scatter(x_scatter, y_scatter, sz)\n",
    "plt.xlabel('log learning rate')\n",
    "plt.ylabel('log regularization strength')\n",
    "plt.title('MNIST training accuracy')\n",
    "\n",
    "# plot validation accuracy\n",
    "sz = [results[x][\"val_acc_history\"]*1500 for x in results] # default size of markers is 20\n",
    "plt.subplot(1,2,2)\n",
    "plt.scatter(x_scatter, y_scatter, sz)\n",
    "plt.xlabel('log learning rate')\n",
    "plt.ylabel('log regularization strength')\n",
    "plt.title('MNIST validation accuracy')"
   ]
  },
  {
   "cell_type": "code",
   "execution_count": 28,
   "metadata": {},
   "outputs": [
    {
     "name": "stdout",
     "output_type": "stream",
     "text": [
      "linear classifier on raw pixels final test set accuracy: 0.857858\n"
     ]
    }
   ],
   "source": [
    "# Evaluate the best model on test set\n",
    "y_test_pred = best_LC.predict(X_test)\n",
    "test_accuracy = np.mean(y_test == y_test_pred)\n",
    "print ('linear classifier on raw pixels final test set accuracy: %f' % test_accuracy)"
   ]
  },
  {
   "cell_type": "code",
   "execution_count": 29,
   "metadata": {},
   "outputs": [
    {
     "data": {
      "image/png": "[encoded data removed]",
      "text/plain": [
       "<Figure size 432x288 with 10 Axes>"
      ]
     },
     "metadata": {
      "needs_background": "light"
     },
     "output_type": "display_data"
    }
   ],
   "source": [
    "# Visualize the learned weights for each class.\n",
    "# Depending on your choice of learning rate and regularization strength, these may\n",
    "# or may not be nice to look at.\n",
    "w = best_LC.params['W'][:,:-1] # strip out the bias\n",
    "w = w.reshape(10, 28, 28)\n",
    "w_min, w_max = np.min(w), np.max(w)\n",
    "classes = ['0', '1', '2', '3', '4', '5', '6', '7', '8', '9']\n",
    "for i in range(10):\n",
    "  plt.subplot(2, 5, i + 1)\n",
    "    \n",
    "  # Rescale the weights to be between 0 and 255\n",
    "  wimg = 255.0 * (w[i].squeeze() - w_min) / (w_max - w_min)\n",
    "  plt.imshow(wimg.astype('uint8'))\n",
    "  plt.axis('off')\n",
    "  plt.title(classes[i])"
   ]
  },
  {
   "cell_type": "markdown",
   "metadata": {},
   "source": [
    "### Inline question 2:\n",
    "Describe what your visualized Linear Classifier weights look like, and offer a brief explanation for why they look they way that they do.\n",
    "\n",
    "**Your answer:** *fill this in*"
   ]
  },
  {
   "cell_type": "raw",
   "metadata": {},
   "source": [
    "They look like the prototypes of numbers, the 0,2,3,5,6,7,8 can easily recognized by their shapes. The 1 looks like \"X\" character since it can be drawn from right to left and left to right. The 4 shape has the most unfamiliar image.\n",
    "The center of images stays black and white while outer circle are grey nearly all of them. This is because the images are mostly centered."
   ]
  },
  {
   "cell_type": "code",
   "execution_count": null,
   "metadata": {},
   "outputs": [],
   "source": []
  }
 ],
 "metadata": {
  "kernelspec": {
   "display_name": "Python 3",
   "language": "python",
   "name": "python3"
  },
  "language_info": {
   "codemirror_mode": {
    "name": "ipython",
    "version": 3
   },
   "file_extension": ".py",
   "mimetype": "text/x-python",
   "name": "python",
   "nbconvert_exporter": "python",
   "pygments_lexer": "ipython3",
   "version": "3.7.1rc2"
  }
 },
 "nbformat": 4,
 "nbformat_minor": 1
}
