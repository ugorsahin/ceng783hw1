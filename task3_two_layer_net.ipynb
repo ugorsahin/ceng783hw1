{
 "cells": [
  {
   "cell_type": "markdown",
   "metadata": {},
   "source": [
    "# A Two-Layer Neural Network for Classification\n",
    "\n",
    "In this exercise, you will implement and train a linear classifier using cross entropy loss. We will reuse most of the code (and the cells) that we developed in Task 1.\n",
    "\n",
    "Please complete all cells and answer questions asked in the cells if you want to get a full grade."
   ]
  },
  {
   "cell_type": "code",
   "execution_count": 16,
   "metadata": {
    "scrolled": true
   },
   "outputs": [
    {
     "name": "stdout",
     "output_type": "stream",
     "text": [
      "The autoreload extension is already loaded. To reload it, use:\n",
      "  %reload_ext autoreload\n"
     ]
    }
   ],
   "source": [
    "# A bit of setup\n",
    "\n",
    "import numpy as np\n",
    "import matplotlib.pyplot as plt\n",
    "\n",
    "from ceng783.neural_net import TwoLayerNet\n",
    "\n",
    "%matplotlib inline\n",
    "plt.rcParams['figure.figsize'] = (10.0, 8.0) # set default size of plots\n",
    "plt.rcParams['image.interpolation'] = 'nearest'\n",
    "plt.rcParams['image.cmap'] = 'gray'\n",
    "\n",
    "# for auto-reloading external modules\n",
    "# see http://stackoverflow.com/questions/1907993/autoreload-of-modules-in-ipython\n",
    "%load_ext autoreload\n",
    "%autoreload 2\n",
    "\n",
    "def rel_error(x, y):\n",
    "  \"\"\" returns relative error \"\"\"\n",
    "  return np.max(np.abs(x - y) / (np.maximum(1e-8, np.abs(x) + np.abs(y))))"
   ]
  },
  {
   "cell_type": "markdown",
   "metadata": {},
   "source": [
    "We will use the class `TwoLayerNet` in the file `ceng783/neural_net.py` to represent instances of our network. Like in Task 1 & Task 2, the network parameters are stored in the instance variable `self.params` where keys are string parameter names and values are numpy arrays. Below, we initialize toy data and a toy model that we will use to develop your implementation."
   ]
  },
  {
   "cell_type": "code",
   "execution_count": 17,
   "metadata": {},
   "outputs": [
    {
     "name": "stdout",
     "output_type": "stream",
     "text": [
      "[[ 16.24345364  -6.11756414  -5.28171752 -10.72968622]\n",
      " [  8.65407629 -23.01538697  17.44811764  -7.61206901]\n",
      " [  3.19039096  -2.49370375  14.62107937 -20.60140709]\n",
      " [ -3.22417204  -3.84054355  11.33769442 -10.99891267]\n",
      " [ -1.72428208  -8.77858418   0.42213747   5.82815214]]\n"
     ]
    }
   ],
   "source": [
    "# Create a small net and some toy data to check your implementations.\n",
    "# Note that we set the random seed for repeatable experiments.\n",
    "\n",
    "input_size = 4\n",
    "hidden_size = 10\n",
    "num_classes = 3\n",
    "num_inputs = 5\n",
    "\n",
    "def init_toy_model():\n",
    "  np.random.seed(0)\n",
    "  return TwoLayerNet(input_size, hidden_size, num_classes, std=1e-1)\n",
    "\n",
    "def init_toy_data():\n",
    "  np.random.seed(1)\n",
    "  X = 10 * np.random.randn(num_inputs, input_size)\n",
    "  y = np.array([0, 1, 2, 2, 1])\n",
    "  return X, y\n",
    "\n",
    "net = init_toy_model()\n",
    "X, y = init_toy_data()\n",
    "print(X)"
   ]
  },
  {
   "cell_type": "markdown",
   "metadata": {},
   "source": [
    "# Forward pass: compute scores\n",
    "Open the file `ceng783/neural_net.py` and look at the method `TwoLayerNet.loss`. This function is very similar to the loss functions you have written for the first two tasks: It takes the data and weights and computes the class scores, the loss, and the gradients on the parameters.\n",
    "\n",
    "The first layer uses ReLU as the activation function. The output layer does not use any activation functions.\n",
    "\n",
    "As the loss, you should use cross-entropy loss (using the softmax function first to obtain the propabilities).\n",
    "\n",
    "Implement the first part of the forward pass which uses the weights and biases to compute the scores for all inputs."
   ]
  },
  {
   "cell_type": "code",
   "execution_count": 18,
   "metadata": {
    "scrolled": true
   },
   "outputs": [
    {
     "name": "stdout",
     "output_type": "stream",
     "text": [
      "Your scores:\n",
      "[[-0.81233741 -1.27654624 -0.70335995]\n",
      " [-0.17129677 -1.18803311 -0.47310444]\n",
      " [-0.51590475 -1.01354314 -0.8504215 ]\n",
      " [-0.15419291 -0.48629638 -0.52901952]\n",
      " [-0.00618733 -0.12435261 -0.15226949]]\n",
      "\n",
      "correct scores:\n",
      "[[-0.81233741 -1.27654624 -0.70335995]\n",
      " [-0.17129677 -1.18803311 -0.47310444]\n",
      " [-0.51590475 -1.01354314 -0.8504215 ]\n",
      " [-0.15419291 -0.48629638 -0.52901952]\n",
      " [-0.00618733 -0.12435261 -0.15226949]]\n",
      "\n",
      "Difference between your scores and correct scores:\n",
      "3.6802720745909845e-08\n"
     ]
    }
   ],
   "source": [
    "scores = net.loss(X)\n",
    "print ('Your scores:')\n",
    "print (scores)\n",
    "print()\n",
    "print ('correct scores:')\n",
    "correct_scores = np.asarray([\n",
    "  [-0.81233741, -1.27654624, -0.70335995],\n",
    "  [-0.17129677, -1.18803311, -0.47310444],\n",
    "  [-0.51590475, -1.01354314, -0.8504215 ],\n",
    "  [-0.15419291, -0.48629638, -0.52901952],\n",
    "  [-0.00618733, -0.12435261, -0.15226949]])\n",
    "print (correct_scores)\n",
    "print()\n",
    "\n",
    "# The difference should be very small. We get < 1e-7\n",
    "print ('Difference between your scores and correct scores:')\n",
    "print (np.sum(np.abs(scores - correct_scores)))"
   ]
  },
  {
   "cell_type": "markdown",
   "metadata": {},
   "source": [
    "# Forward pass: compute loss\n",
    "In the same function, implement the second part that computes the data and regularizaion loss."
   ]
  },
  {
   "cell_type": "code",
   "execution_count": 20,
   "metadata": {},
   "outputs": [
    {
     "name": "stdout",
     "output_type": "stream",
     "text": [
      "Difference between your loss and correct loss:\n",
      "1.7985612998927536e-13\n"
     ]
    }
   ],
   "source": [
    "loss, _ = net.loss(X, y, reg=0.1)\n",
    "correct_loss = 1.30378789133\n",
    "\n",
    "# should be very small, we get < 1e-12\n",
    "print ('Difference between your loss and correct loss:')\n",
    "print (np.sum(np.abs(loss - correct_loss)))"
   ]
  },
  {
   "cell_type": "markdown",
   "metadata": {},
   "source": [
    "# Backward pass\n",
    "Implement the rest of the function. This will compute the gradient of the loss with respect to the variables `W1`, `b1`, `W2`, and `b2`. Now that you (hopefully!) have a correctly implemented forward pass, you can debug your backward pass using a numeric gradient check:"
   ]
  },
  {
   "cell_type": "code",
   "execution_count": 37,
   "metadata": {},
   "outputs": [
    {
     "name": "stdout",
     "output_type": "stream",
     "text": [
      "W1 max relative error: 5.954598e-04\n",
      "W2 max relative error: 3.757048e-04\n",
      "b1 max relative error: 5.730819e-06\n",
      "b2 max relative error: 8.251148e-06\n"
     ]
    }
   ],
   "source": [
    "from ceng783.utils import eval_numerical_gradient\n",
    "\n",
    "# Use numeric gradient checking to check your implementation of the backward pass.\n",
    "# If your implementation is correct, the difference between the numeric and\n",
    "# analytic gradients should be less than 1e-8 for each of W1, W2, b1, and b2.\n",
    "\n",
    "loss, grads = net.loss(X, y, reg=0.1)\n",
    "\n",
    "# these should all be less than 1e-5 or so\n",
    "for param_name in grads:\n",
    "  f = lambda W: net.loss(X, y, reg=0.1)[0]\n",
    "  param_grad_num = eval_numerical_gradient(f, net.params[param_name])\n",
    "  print ('%s max relative error: %e' % (param_name, rel_error(param_grad_num, grads[param_name])))"
   ]
  },
  {
   "cell_type": "markdown",
   "metadata": {},
   "source": [
    "# Train the network\n",
    "To train the network we will use stochastic gradient descent (SGD), similar to the previous exercises. Look at the function `TwoLayerNet.train` and fill in the missing sections to implement the training procedure. You will also have to implement `TwoLayerNet.predict`, as the training process periodically performs prediction to keep track of accuracy over time while the network trains.\n",
    "\n",
    "Once you have implemented the method, run the code below to train a two-layer network on toy data. You should achieve a training loss less than 0.2."
   ]
  },
  {
   "cell_type": "code",
   "execution_count": 7,
   "metadata": {
    "scrolled": false
   },
   "outputs": [
    {
     "name": "stdout",
     "output_type": "stream",
     "text": [
      "Final training loss:  0.01714960793873203\n"
     ]
    },
    {
     "data": {
      "image/png": "[encoded data removed]",
      "text/plain": [
       "<Figure size 432x288 with 1 Axes>"
      ]
     },
     "metadata": {
      "needs_background": "light"
     },
     "output_type": "display_data"
    }
   ],
   "source": [
    "net = init_toy_model()\n",
    "stats = net.train(X, y, X, y,\n",
    "            learning_rate=1e-1, reg=1e-5,\n",
    "            num_iters=100, verbose=False)\n",
    "\n",
    "print('Final training loss: ', stats['loss_history'][-1])\n",
    "\n",
    "# plot the loss history\n",
    "plt.plot(stats['loss_history'])\n",
    "plt.xlabel('iteration')\n",
    "plt.ylabel('training loss')\n",
    "plt.title('Training Loss history')\n",
    "plt.show()"
   ]
  },
  {
   "cell_type": "markdown",
   "metadata": {},
   "source": [
    "## Loading the MNIST Dataset\n",
    "\n",
    "MNIST (http://yann.lecun.com/exdb/mnist/) is one of the popular datasets used for testing machine learning models. It contains hand-written digits as grayscale images with 28x28 resolution. There are 60,000 samples for training (10,000 of which is usually used for validation), and 10,000 for testing. Although there are more challenging datasets available, MNIST is a good starting point for testing early versions of the models and as a sanity check.\n",
    "\n",
    "Since more challenging datasets require more memory and lead to bigger models that require more computational power, we will stick with the MNIST dataset for the first HW."
   ]
  },
  {
   "cell_type": "code",
   "execution_count": 8,
   "metadata": {},
   "outputs": [
    {
     "name": "stdout",
     "output_type": "stream",
     "text": [
      "Training data shape:  (50000, 784)\n",
      "Training labels shape:  (50000,)\n",
      "Validation data shape:  (10000, 784)\n",
      "Validation labels shape:  (10000,)\n",
      "Test data shape:  (10000, 784)\n",
      "Test labels shape:  (10000,)\n"
     ]
    }
   ],
   "source": [
    "# First run the \"get_data.sh\" under metu/data/ in your terminal.\n",
    "# Then this cell will load the raw MNIST data.\n",
    "#\n",
    "#\n",
    "from ceng783.utils import load_mnist\n",
    "mnist_file = 'ceng783/data/mnist.pkl.gz'\n",
    "X_train, y_train, X_val, y_val, X_test, y_test = load_mnist(mnist_file)\n",
    "\n",
    "# As a sanity check, we print out the size of the training and test data.\n",
    "print ('Training data shape: ', X_train.shape)\n",
    "print ('Training labels shape: ', y_train.shape)\n",
    "print ('Validation data shape: ', X_val.shape)\n",
    "print ('Validation labels shape: ', y_val.shape)\n",
    "print ('Test data shape: ', X_test.shape)\n",
    "print ('Test labels shape: ', y_test.shape)"
   ]
  },
  {
   "cell_type": "code",
   "execution_count": 9,
   "metadata": {},
   "outputs": [
    {
     "name": "stdout",
     "output_type": "stream",
     "text": [
      "Train data shape:  (9999, 784)\n",
      "Train labels shape:  (9999,)\n",
      "Validation data shape:  (999, 784)\n",
      "Validation labels shape:  (999,)\n",
      "Test data shape:  (999, 784)\n",
      "Test labels shape:  (999,)\n"
     ]
    }
   ],
   "source": [
    "# Subsample the data for faster experiments in this exercise.\n",
    "num_training = 10000\n",
    "num_validation = 1000\n",
    "num_test = 1000\n",
    "\n",
    "X_train = X_train[1:num_training]\n",
    "y_train = y_train[1:num_training]\n",
    "\n",
    "X_val = X_val[1:num_validation]\n",
    "y_val = y_val[1:num_validation]\n",
    "\n",
    "X_test = X_test[1:num_test]\n",
    "y_test = y_test[1:num_test]\n",
    "\n",
    "print ('Train data shape: ', X_train.shape)\n",
    "print ('Train labels shape: ', y_train.shape)\n",
    "print ('Validation data shape: ', X_val.shape)\n",
    "print ('Validation labels shape: ', y_val.shape)\n",
    "print ('Test data shape: ', X_test.shape)\n",
    "print ('Test labels shape: ', y_test.shape)"
   ]
  },
  {
   "cell_type": "code",
   "execution_count": 10,
   "metadata": {},
   "outputs": [
    {
     "name": "stdout",
     "output_type": "stream",
     "text": [
      "[0. 0. 0. 0. 0. 0. 0. 0. 0. 0.]\n"
     ]
    },
    {
     "data": {
      "text/plain": [
       "<matplotlib.image.AxesImage at 0x2643a7d01d0>"
      ]
     },
     "execution_count": 10,
     "metadata": {},
     "output_type": "execute_result"
    },
    {
     "data": {
      "image/png": "[encoded data removed]",
      "text/plain": [
       "<Figure size 288x288 with 1 Axes>"
      ]
     },
     "metadata": {
      "needs_background": "light"
     },
     "output_type": "display_data"
    }
   ],
   "source": [
    "# Preprocessing: subtract the mean image\n",
    "# first: compute the image mean based on the training data\n",
    "mean_image = np.mean(X_train, axis=0)\n",
    "\n",
    "# second: subtract the mean image from train and test data\n",
    "X_train -= mean_image\n",
    "X_val -= mean_image\n",
    "X_test -= mean_image\n",
    "\n",
    "print (mean_image[:10]) # print a few of the elements\n",
    "plt.figure(figsize=(4,4))\n",
    "plt.imshow(mean_image.reshape((28,28))) # visualize the mean image"
   ]
  },
  {
   "cell_type": "markdown",
   "metadata": {},
   "source": [
    "# Train a network\n",
    "To train our network we will use SGD with momentum. In addition, we will adjust the learning rate with an exponential learning rate schedule as optimization proceeds; after each epoch, we will reduce the learning rate by multiplying it by a decay rate."
   ]
  },
  {
   "cell_type": "code",
   "execution_count": 11,
   "metadata": {
    "scrolled": true
   },
   "outputs": [
    {
     "name": "stdout",
     "output_type": "stream",
     "text": [
      "iteration 0 / 2000: loss 2.302585\n",
      "iteration 100 / 2000: loss 2.296061\n",
      "iteration 200 / 2000: loss 2.267624\n",
      "iteration 300 / 2000: loss 1.043428\n",
      "iteration 400 / 2000: loss 0.827882\n",
      "iteration 500 / 2000: loss 0.368546\n",
      "iteration 600 / 2000: loss 0.390893\n",
      "iteration 700 / 2000: loss 0.351723\n",
      "iteration 800 / 2000: loss 0.246001\n",
      "iteration 900 / 2000: loss 0.401713\n",
      "iteration 1000 / 2000: loss 0.373981\n",
      "iteration 1100 / 2000: loss 0.311115\n",
      "iteration 1200 / 2000: loss 0.117662\n",
      "iteration 1300 / 2000: loss 0.298803\n",
      "iteration 1400 / 2000: loss 0.110076\n",
      "iteration 1500 / 2000: loss 0.353738\n",
      "iteration 1600 / 2000: loss 0.143456\n",
      "iteration 1700 / 2000: loss 0.230063\n",
      "iteration 1800 / 2000: loss 0.150769\n",
      "iteration 1900 / 2000: loss 0.325872\n",
      "Validation accuracy:  0.9069069069069069\n"
     ]
    }
   ],
   "source": [
    "input_size = 28*28\n",
    "hidden_size = 50\n",
    "num_classes = 10\n",
    "net = TwoLayerNet(input_size, hidden_size, num_classes)\n",
    "\n",
    "# Train the network\n",
    "stats = net.train(X_train, y_train, X_val, y_val,\n",
    "            num_iters=2000, batch_size=32,\n",
    "            learning_rate=0.1, learning_rate_decay=0.95,\n",
    "            reg=0.001, verbose=True)\n",
    "\n",
    "# Predict on the validation set\n",
    "val_acc = (net.predict(X_val) == y_val).mean()\n",
    "print ('Validation accuracy: ', val_acc)\n"
   ]
  },
  {
   "cell_type": "markdown",
   "metadata": {},
   "source": [
    "# Debug the training\n",
    "With the default parameters we provided above, you should get a validation accuracy of about 0.29 on the validation set. This isn't very good.\n",
    "\n",
    "One strategy for getting insight into what's wrong is to plot the loss function and the accuracies on the training and validation sets during optimization.\n",
    "\n",
    "Another strategy is to visualize the weights that were learned in the first layer of the network. In most neural networks trained on visual data, the first layer weights typically show some visible structure when visualized."
   ]
  },
  {
   "cell_type": "code",
   "execution_count": 12,
   "metadata": {},
   "outputs": [
    {
     "data": {
      "image/png": "[encoded data removed]",
      "text/plain": [
       "<Figure size 432x288 with 2 Axes>"
      ]
     },
     "metadata": {
      "needs_background": "light"
     },
     "output_type": "display_data"
    }
   ],
   "source": [
    "# Plot the loss function and train / validation accuracies\n",
    "plt.subplot(2, 1, 1)\n",
    "plt.plot(stats['loss_history'])\n",
    "plt.title('Loss history')\n",
    "plt.xlabel('Iteration')\n",
    "plt.ylabel('Loss')\n",
    "\n",
    "plt.subplot(2, 1, 2)\n",
    "plt.plot(stats['train_acc_history'], label='train')\n",
    "plt.plot(stats['val_acc_history'], label='val')\n",
    "plt.title('Classification accuracy history')\n",
    "plt.xlabel('Epoch')\n",
    "plt.ylabel('Clasification accuracy')\n",
    "plt.show()"
   ]
  },
  {
   "cell_type": "code",
   "execution_count": 13,
   "metadata": {},
   "outputs": [
    {
     "data": {
      "image/png": "[encoded data removed]",
      "text/plain": [
       "<Figure size 432x288 with 10 Axes>"
      ]
     },
     "metadata": {
      "needs_background": "light"
     },
     "output_type": "display_data"
    }
   ],
   "source": [
    "## Let us visualize some of the weights of the first layer\n",
    "\n",
    "w = net.params['W1']\n",
    "\n",
    "w = w.reshape(28, 28, hidden_size)\n",
    "w_min, w_max = np.min(w), np.max(w)\n",
    "\n",
    "for i in range(10):\n",
    "  plt.subplot(2, 5, i + 1)\n",
    "    \n",
    "  # Rescale the weights to be between 0 and 255\n",
    "  wimg = 255.0 * (w[:, :, i].squeeze() - w_min) / (w_max - w_min)\n",
    "  plt.imshow(wimg.astype('uint8'))\n",
    "  plt.axis('off')"
   ]
  },
  {
   "cell_type": "markdown",
   "metadata": {},
   "source": [
    "# Tune your hyperparameters\n",
    "\n",
    "Tuning the hyperparameters and developing intuition for how they affect the final performance is a large part of using Neural Networks, so we want you to get a lot of practice. Below, you should experiment with different values of the various hyperparameters, including hidden layer size, learning rate, numer of training epochs, and regularization strength. You might also consider tuning the learning rate decay, but you should be able to get good performance using the default value. You should get ~%94 validation accuracy."
   ]
  },
  {
   "cell_type": "code",
   "execution_count": 14,
   "metadata": {},
   "outputs": [
    {
     "name": "stdout",
     "output_type": "stream",
     "text": [
      " k:2 i:2 j:2 t:3\n",
      "hs: 1.000000e+01 lr: 1.800000e-02 reg: 1.000000e-03 lr_decay: 8.000000e-01 train accuracy: 0.112711 val accuracy: 0.107107\n",
      "hs: 1.000000e+01 lr: 1.800000e-02 reg: 1.000000e-03 lr_decay: 9.000000e-01 train accuracy: 0.112711 val accuracy: 0.107107\n",
      "hs: 1.000000e+01 lr: 1.800000e-02 reg: 1.000000e-03 lr_decay: 9.500000e-01 train accuracy: 0.112711 val accuracy: 0.107107\n",
      "hs: 1.000000e+01 lr: 1.800000e-02 reg: 1.000000e-03 lr_decay: 9.800000e-01 train accuracy: 0.312531 val accuracy: 0.285285\n",
      "hs: 1.000000e+01 lr: 1.800000e-02 reg: 1.000000e-02 lr_decay: 8.000000e-01 train accuracy: 0.112711 val accuracy: 0.107107\n",
      "hs: 1.000000e+01 lr: 1.800000e-02 reg: 1.000000e-02 lr_decay: 9.000000e-01 train accuracy: 0.112711 val accuracy: 0.107107\n",
      "hs: 1.000000e+01 lr: 1.800000e-02 reg: 1.000000e-02 lr_decay: 9.500000e-01 train accuracy: 0.112711 val accuracy: 0.107107\n",
      "hs: 1.000000e+01 lr: 1.800000e-02 reg: 1.000000e-02 lr_decay: 9.800000e-01 train accuracy: 0.326033 val accuracy: 0.313313\n",
      "hs: 1.000000e+01 lr: 1.800000e-02 reg: 1.000000e-01 lr_decay: 8.000000e-01 train accuracy: 0.112711 val accuracy: 0.107107\n",
      "hs: 1.000000e+01 lr: 1.800000e-02 reg: 1.000000e-01 lr_decay: 9.000000e-01 train accuracy: 0.112711 val accuracy: 0.107107\n",
      "hs: 1.000000e+01 lr: 1.800000e-02 reg: 1.000000e-01 lr_decay: 9.500000e-01 train accuracy: 0.112711 val accuracy: 0.107107\n",
      "hs: 1.000000e+01 lr: 1.800000e-02 reg: 1.000000e-01 lr_decay: 9.800000e-01 train accuracy: 0.258626 val accuracy: 0.238238\n",
      "hs: 1.000000e+01 lr: 1.400000e-01 reg: 1.000000e-03 lr_decay: 8.000000e-01 train accuracy: 0.431243 val accuracy: 0.411411\n",
      "hs: 1.000000e+01 lr: 1.400000e-01 reg: 1.000000e-03 lr_decay: 9.000000e-01 train accuracy: 0.850185 val accuracy: 0.819820\n",
      "hs: 1.000000e+01 lr: 1.400000e-01 reg: 1.000000e-03 lr_decay: 9.500000e-01 train accuracy: 0.917092 val accuracy: 0.883884\n",
      "hs: 1.000000e+01 lr: 1.400000e-01 reg: 1.000000e-03 lr_decay: 9.800000e-01 train accuracy: 0.930493 val accuracy: 0.891892\n",
      "hs: 1.000000e+01 lr: 1.400000e-01 reg: 1.000000e-02 lr_decay: 8.000000e-01 train accuracy: 0.338334 val accuracy: 0.293293\n",
      "hs: 1.000000e+01 lr: 1.400000e-01 reg: 1.000000e-02 lr_decay: 9.000000e-01 train accuracy: 0.798580 val accuracy: 0.744745\n",
      "hs: 1.000000e+01 lr: 1.400000e-01 reg: 1.000000e-02 lr_decay: 9.500000e-01 train accuracy: 0.911391 val accuracy: 0.891892\n",
      "hs: 1.000000e+01 lr: 1.400000e-01 reg: 1.000000e-02 lr_decay: 9.800000e-01 train accuracy: 0.924592 val accuracy: 0.892893\n",
      "hs: 1.000000e+01 lr: 1.400000e-01 reg: 1.000000e-01 lr_decay: 8.000000e-01 train accuracy: 0.210621 val accuracy: 0.204204\n",
      "hs: 1.000000e+01 lr: 1.400000e-01 reg: 1.000000e-01 lr_decay: 9.000000e-01 train accuracy: 0.643164 val accuracy: 0.600601\n",
      "hs: 1.000000e+01 lr: 1.400000e-01 reg: 1.000000e-01 lr_decay: 9.500000e-01 train accuracy: 0.824982 val accuracy: 0.792793\n",
      "hs: 1.000000e+01 lr: 1.400000e-01 reg: 1.000000e-01 lr_decay: 9.800000e-01 train accuracy: 0.841784 val accuracy: 0.815816\n",
      "hs: 1.000000e+01 lr: 1.000000e+00 reg: 1.000000e-03 lr_decay: 8.000000e-01 train accuracy: 0.934493 val accuracy: 0.893894\n",
      "hs: 1.000000e+01 lr: 1.000000e+00 reg: 1.000000e-03 lr_decay: 9.000000e-01 train accuracy: 0.954595 val accuracy: 0.912913\n",
      "hs: 1.000000e+01 lr: 1.000000e+00 reg: 1.000000e-03 lr_decay: 9.500000e-01 train accuracy: 0.964396 val accuracy: 0.904905\n",
      "hs: 1.000000e+01 lr: 1.000000e+00 reg: 1.000000e-03 lr_decay: 9.800000e-01 train accuracy: 0.967297 val accuracy: 0.908909\n",
      "hs: 1.000000e+01 lr: 1.000000e+00 reg: 1.000000e-02 lr_decay: 8.000000e-01 train accuracy: 0.925893 val accuracy: 0.888889\n",
      "hs: 1.000000e+01 lr: 1.000000e+00 reg: 1.000000e-02 lr_decay: 9.000000e-01 train accuracy: 0.930793 val accuracy: 0.900901\n",
      "hs: 1.000000e+01 lr: 1.000000e+00 reg: 1.000000e-02 lr_decay: 9.500000e-01 train accuracy: 0.930493 val accuracy: 0.899900\n",
      "hs: 1.000000e+01 lr: 1.000000e+00 reg: 1.000000e-02 lr_decay: 9.800000e-01 train accuracy: 0.930093 val accuracy: 0.898899\n",
      "hs: 1.000000e+01 lr: 1.000000e+00 reg: 1.000000e-01 lr_decay: 8.000000e-01 train accuracy: 0.858386 val accuracy: 0.833834\n",
      "hs: 1.000000e+01 lr: 1.000000e+00 reg: 1.000000e-01 lr_decay: 9.000000e-01 train accuracy: 0.857486 val accuracy: 0.834835\n",
      "hs: 1.000000e+01 lr: 1.000000e+00 reg: 1.000000e-01 lr_decay: 9.500000e-01 train accuracy: 0.857486 val accuracy: 0.822823\n",
      "hs: 1.000000e+01 lr: 1.000000e+00 reg: 1.000000e-01 lr_decay: 9.800000e-01 train accuracy: 0.853485 val accuracy: 0.811812\n",
      "hs: 1.000000e+02 lr: 1.800000e-02 reg: 1.000000e-03 lr_decay: 8.000000e-01 train accuracy: 0.112711 val accuracy: 0.107107\n",
      "hs: 1.000000e+02 lr: 1.800000e-02 reg: 1.000000e-03 lr_decay: 9.000000e-01 train accuracy: 0.112711 val accuracy: 0.107107\n",
      "hs: 1.000000e+02 lr: 1.800000e-02 reg: 1.000000e-03 lr_decay: 9.500000e-01 train accuracy: 0.207021 val accuracy: 0.200200\n",
      "hs: 1.000000e+02 lr: 1.800000e-02 reg: 1.000000e-03 lr_decay: 9.800000e-01 train accuracy: 0.456446 val accuracy: 0.444444\n",
      "hs: 1.000000e+02 lr: 1.800000e-02 reg: 1.000000e-02 lr_decay: 8.000000e-01 train accuracy: 0.112711 val accuracy: 0.107107\n",
      "hs: 1.000000e+02 lr: 1.800000e-02 reg: 1.000000e-02 lr_decay: 9.000000e-01 train accuracy: 0.112711 val accuracy: 0.107107\n",
      "hs: 1.000000e+02 lr: 1.800000e-02 reg: 1.000000e-02 lr_decay: 9.500000e-01 train accuracy: 0.208321 val accuracy: 0.199199\n",
      "hs: 1.000000e+02 lr: 1.800000e-02 reg: 1.000000e-02 lr_decay: 9.800000e-01 train accuracy: 0.460846 val accuracy: 0.453453\n",
      "hs: 1.000000e+02 lr: 1.800000e-02 reg: 1.000000e-01 lr_decay: 8.000000e-01 train accuracy: 0.112711 val accuracy: 0.107107\n",
      "hs: 1.000000e+02 lr: 1.800000e-02 reg: 1.000000e-01 lr_decay: 9.000000e-01 train accuracy: 0.112711 val accuracy: 0.107107\n",
      "hs: 1.000000e+02 lr: 1.800000e-02 reg: 1.000000e-01 lr_decay: 9.500000e-01 train accuracy: 0.112711 val accuracy: 0.107107\n",
      "hs: 1.000000e+02 lr: 1.800000e-02 reg: 1.000000e-01 lr_decay: 9.800000e-01 train accuracy: 0.278728 val accuracy: 0.255255\n",
      "hs: 1.000000e+02 lr: 1.400000e-01 reg: 1.000000e-03 lr_decay: 8.000000e-01 train accuracy: 0.599860 val accuracy: 0.571572\n",
      "hs: 1.000000e+02 lr: 1.400000e-01 reg: 1.000000e-03 lr_decay: 9.000000e-01 train accuracy: 0.905691 val accuracy: 0.867868\n",
      "hs: 1.000000e+02 lr: 1.400000e-01 reg: 1.000000e-03 lr_decay: 9.500000e-01 train accuracy: 0.935294 val accuracy: 0.899900\n",
      "hs: 1.000000e+02 lr: 1.400000e-01 reg: 1.000000e-03 lr_decay: 9.800000e-01 train accuracy: 0.951795 val accuracy: 0.912913\n",
      "hs: 1.000000e+02 lr: 1.400000e-01 reg: 1.000000e-02 lr_decay: 8.000000e-01 train accuracy: 0.558956 val accuracy: 0.532533\n",
      "hs: 1.000000e+02 lr: 1.400000e-01 reg: 1.000000e-02 lr_decay: 9.000000e-01 train accuracy: 0.899590 val accuracy: 0.871872\n",
      "hs: 1.000000e+02 lr: 1.400000e-01 reg: 1.000000e-02 lr_decay: 9.500000e-01 train accuracy: 0.924592 val accuracy: 0.894895\n",
      "hs: 1.000000e+02 lr: 1.400000e-01 reg: 1.000000e-02 lr_decay: 9.800000e-01 train accuracy: 0.933493 val accuracy: 0.900901\n",
      "hs: 1.000000e+02 lr: 1.400000e-01 reg: 1.000000e-01 lr_decay: 8.000000e-01 train accuracy: 0.353335 val accuracy: 0.336336\n",
      "hs: 1.000000e+02 lr: 1.400000e-01 reg: 1.000000e-01 lr_decay: 9.000000e-01 train accuracy: 0.762476 val accuracy: 0.713714\n",
      "hs: 1.000000e+02 lr: 1.400000e-01 reg: 1.000000e-01 lr_decay: 9.500000e-01 train accuracy: 0.858986 val accuracy: 0.827828\n",
      "hs: 1.000000e+02 lr: 1.400000e-01 reg: 1.000000e-01 lr_decay: 9.800000e-01 train accuracy: 0.858286 val accuracy: 0.835836\n",
      "hs: 1.000000e+02 lr: 1.000000e+00 reg: 1.000000e-03 lr_decay: 8.000000e-01 train accuracy: 0.950995 val accuracy: 0.908909\n",
      "hs: 1.000000e+02 lr: 1.000000e+00 reg: 1.000000e-03 lr_decay: 9.000000e-01 train accuracy: 0.978098 val accuracy: 0.933934\n",
      "hs: 1.000000e+02 lr: 1.000000e+00 reg: 1.000000e-03 lr_decay: 9.500000e-01 train accuracy: 0.992299 val accuracy: 0.946947\n",
      "hs: 1.000000e+02 lr: 1.000000e+00 reg: 1.000000e-03 lr_decay: 9.800000e-01 train accuracy: 0.996500 val accuracy: 0.946947\n",
      "hs: 1.000000e+02 lr: 1.000000e+00 reg: 1.000000e-02 lr_decay: 8.000000e-01 train accuracy: 0.933193 val accuracy: 0.907908\n",
      "hs: 1.000000e+02 lr: 1.000000e+00 reg: 1.000000e-02 lr_decay: 9.000000e-01 train accuracy: 0.942894 val accuracy: 0.914915\n",
      "hs: 1.000000e+02 lr: 1.000000e+00 reg: 1.000000e-02 lr_decay: 9.500000e-01 train accuracy: 0.946695 val accuracy: 0.916917\n",
      "hs: 1.000000e+02 lr: 1.000000e+00 reg: 1.000000e-02 lr_decay: 9.800000e-01 train accuracy: 0.947495 val accuracy: 0.917918\n",
      "hs: 1.000000e+02 lr: 1.000000e+00 reg: 1.000000e-01 lr_decay: 8.000000e-01 train accuracy: 0.861186 val accuracy: 0.834835\n",
      "hs: 1.000000e+02 lr: 1.000000e+00 reg: 1.000000e-01 lr_decay: 9.000000e-01 train accuracy: 0.858086 val accuracy: 0.837838\n",
      "hs: 1.000000e+02 lr: 1.000000e+00 reg: 1.000000e-01 lr_decay: 9.500000e-01 train accuracy: 0.852185 val accuracy: 0.829830\n",
      "hs: 1.000000e+02 lr: 1.000000e+00 reg: 1.000000e-01 lr_decay: 9.800000e-01 train accuracy: 0.809381 val accuracy: 0.789790\n",
      "hs: 2.000000e+02 lr: 1.800000e-02 reg: 1.000000e-03 lr_decay: 8.000000e-01 train accuracy: 0.112711 val accuracy: 0.107107\n",
      "hs: 2.000000e+02 lr: 1.800000e-02 reg: 1.000000e-03 lr_decay: 9.000000e-01 train accuracy: 0.112711 val accuracy: 0.107107\n",
      "hs: 2.000000e+02 lr: 1.800000e-02 reg: 1.000000e-03 lr_decay: 9.500000e-01 train accuracy: 0.263126 val accuracy: 0.242242\n",
      "hs: 2.000000e+02 lr: 1.800000e-02 reg: 1.000000e-03 lr_decay: 9.800000e-01 train accuracy: 0.521252 val accuracy: 0.504505\n",
      "hs: 2.000000e+02 lr: 1.800000e-02 reg: 1.000000e-02 lr_decay: 8.000000e-01 train accuracy: 0.112711 val accuracy: 0.107107\n",
      "hs: 2.000000e+02 lr: 1.800000e-02 reg: 1.000000e-02 lr_decay: 9.000000e-01 train accuracy: 0.112711 val accuracy: 0.107107\n",
      "hs: 2.000000e+02 lr: 1.800000e-02 reg: 1.000000e-02 lr_decay: 9.500000e-01 train accuracy: 0.237524 val accuracy: 0.227227\n",
      "hs: 2.000000e+02 lr: 1.800000e-02 reg: 1.000000e-02 lr_decay: 9.800000e-01 train accuracy: 0.491349 val accuracy: 0.480480\n",
      "hs: 2.000000e+02 lr: 1.800000e-02 reg: 1.000000e-01 lr_decay: 8.000000e-01 train accuracy: 0.112711 val accuracy: 0.107107\n",
      "hs: 2.000000e+02 lr: 1.800000e-02 reg: 1.000000e-01 lr_decay: 9.000000e-01 train accuracy: 0.112711 val accuracy: 0.107107\n",
      "hs: 2.000000e+02 lr: 1.800000e-02 reg: 1.000000e-01 lr_decay: 9.500000e-01 train accuracy: 0.112711 val accuracy: 0.107107\n",
      "hs: 2.000000e+02 lr: 1.800000e-02 reg: 1.000000e-01 lr_decay: 9.800000e-01 train accuracy: 0.314631 val accuracy: 0.294294\n",
      "hs: 2.000000e+02 lr: 1.400000e-01 reg: 1.000000e-03 lr_decay: 8.000000e-01 train accuracy: 0.645365 val accuracy: 0.605606\n",
      "hs: 2.000000e+02 lr: 1.400000e-01 reg: 1.000000e-03 lr_decay: 9.000000e-01 train accuracy: 0.906491 val accuracy: 0.874875\n",
      "hs: 2.000000e+02 lr: 1.400000e-01 reg: 1.000000e-03 lr_decay: 9.500000e-01 train accuracy: 0.935794 val accuracy: 0.900901\n",
      "hs: 2.000000e+02 lr: 1.400000e-01 reg: 1.000000e-03 lr_decay: 9.800000e-01 train accuracy: 0.950595 val accuracy: 0.914915\n",
      "hs: 2.000000e+02 lr: 1.400000e-01 reg: 1.000000e-02 lr_decay: 8.000000e-01 train accuracy: 0.613161 val accuracy: 0.569570\n",
      "hs: 2.000000e+02 lr: 1.400000e-01 reg: 1.000000e-02 lr_decay: 9.000000e-01 train accuracy: 0.902190 val accuracy: 0.868869\n",
      "hs: 2.000000e+02 lr: 1.400000e-01 reg: 1.000000e-02 lr_decay: 9.500000e-01 train accuracy: 0.925293 val accuracy: 0.898899\n",
      "hs: 2.000000e+02 lr: 1.400000e-01 reg: 1.000000e-02 lr_decay: 9.800000e-01 train accuracy: 0.931993 val accuracy: 0.897898\n",
      "hs: 2.000000e+02 lr: 1.400000e-01 reg: 1.000000e-01 lr_decay: 8.000000e-01 train accuracy: 0.379438 val accuracy: 0.366366\n",
      "hs: 2.000000e+02 lr: 1.400000e-01 reg: 1.000000e-01 lr_decay: 9.000000e-01 train accuracy: 0.782878 val accuracy: 0.743744\n",
      "hs: 2.000000e+02 lr: 1.400000e-01 reg: 1.000000e-01 lr_decay: 9.500000e-01 train accuracy: 0.857486 val accuracy: 0.827828\n",
      "hs: 2.000000e+02 lr: 1.400000e-01 reg: 1.000000e-01 lr_decay: 9.800000e-01 train accuracy: 0.860686 val accuracy: 0.840841\n",
      "hs: 2.000000e+02 lr: 1.000000e+00 reg: 1.000000e-03 lr_decay: 8.000000e-01 train accuracy: 0.952495 val accuracy: 0.917918\n",
      "hs: 2.000000e+02 lr: 1.000000e+00 reg: 1.000000e-03 lr_decay: 9.000000e-01 train accuracy: 0.979298 val accuracy: 0.935936\n",
      "hs: 2.000000e+02 lr: 1.000000e+00 reg: 1.000000e-03 lr_decay: 9.500000e-01 train accuracy: 0.992999 val accuracy: 0.951952\n",
      "hs: 2.000000e+02 lr: 1.000000e+00 reg: 1.000000e-03 lr_decay: 9.800000e-01 train accuracy: 0.997200 val accuracy: 0.950951\n",
      "hs: 2.000000e+02 lr: 1.000000e+00 reg: 1.000000e-02 lr_decay: 8.000000e-01 train accuracy: 0.933493 val accuracy: 0.901902\n",
      "hs: 2.000000e+02 lr: 1.000000e+00 reg: 1.000000e-02 lr_decay: 9.000000e-01 train accuracy: 0.943794 val accuracy: 0.912913\n",
      "hs: 2.000000e+02 lr: 1.000000e+00 reg: 1.000000e-02 lr_decay: 9.500000e-01 train accuracy: 0.947395 val accuracy: 0.919920\n",
      "hs: 2.000000e+02 lr: 1.000000e+00 reg: 1.000000e-02 lr_decay: 9.800000e-01 train accuracy: 0.946595 val accuracy: 0.914915\n",
      "hs: 2.000000e+02 lr: 1.000000e+00 reg: 1.000000e-01 lr_decay: 8.000000e-01 train accuracy: 0.861586 val accuracy: 0.835836\n",
      "hs: 2.000000e+02 lr: 1.000000e+00 reg: 1.000000e-01 lr_decay: 9.000000e-01 train accuracy: 0.861486 val accuracy: 0.837838\n",
      "hs: 2.000000e+02 lr: 1.000000e+00 reg: 1.000000e-01 lr_decay: 9.500000e-01 train accuracy: 0.855786 val accuracy: 0.833834\n",
      "hs: 2.000000e+02 lr: 1.000000e+00 reg: 1.000000e-01 lr_decay: 9.800000e-01 train accuracy: 0.854085 val accuracy: 0.833834\n",
      "best validation accuracy achieved during cross-validation: 0.951952\n"
     ]
    }
   ],
   "source": [
    "best_net = None # store the best model into this \n",
    "#################################################################################\n",
    "# TODO: Tune hyperparameters using the validation set. Store your best trained  #\n",
    "# model in best_net.                                                            #\n",
    "#                                                                               #\n",
    "# To help debug your network, it may help to use visualizations similar to the  #\n",
    "# ones we used above; these visualizations will have significant qualitative    #\n",
    "# differences from the ones we saw above for the poorly tuned network.          #\n",
    "#                                                                               #\n",
    "# Tweaking hyperparameters by hand can be fun, but you might find it useful to  #\n",
    "# write code to sweep through possible combinations of hyperparameters          #\n",
    "# automatically like we did on the previous exercises.                          #\n",
    "#################################################################################\n",
    "results = {}\n",
    "best_val = -1\n",
    "best_hps = (0,0,0)\n",
    "\n",
    "learning_rates = [1, 1.4e-1,1.8e-2]\n",
    "regularization_strengths = [0.1, 0.01, 0.001]\n",
    "lr_decay = [0.8,0.9,0.95,0.98]\n",
    "input_size = 28*28\n",
    "hidden_size = [10,100,200]\n",
    "num_classes = 10\n",
    "k=0\n",
    "while k<len(hidden_size):\n",
    "    i=0\n",
    "    while i< len(learning_rates):\n",
    "        j = 0\n",
    "        while j < len(regularization_strengths):\n",
    "            t = 0\n",
    "            while t < len(lr_decay):\n",
    "                print(\"\\r k:{} i:{} j:{} t:{}\".format(k,i,j,t),end=\"\")\n",
    "                net = TwoLayerNet(input_size, hidden_size[k], num_classes)\n",
    "                stats = net.train(X_train, y_train, X_val, y_val,\n",
    "                    num_iters=2000, batch_size=200,\n",
    "                    learning_rate=learning_rates[i], learning_rate_decay=lr_decay[t],\n",
    "                    reg=regularization_strengths[j])\n",
    "                val_acc = (net.predict(X_val) == y_val).mean()\n",
    "                train_acc = (net.predict(X_train) == y_train).mean()\n",
    "\n",
    "                if best_val < val_acc:\n",
    "                    best_val = val_acc\n",
    "                    best_net = net\n",
    "                    best_hps = (learning_rates[i], regularization_strengths[j],lr_decay[t])\n",
    "                results[(hidden_size[k],learning_rates[i], regularization_strengths[j],lr_decay[t])] = (train_acc, val_acc)\n",
    "                t+=1\n",
    "            j=j+1\n",
    "        i=i+1\n",
    "    k=k+1\n",
    "#################################################################################\n",
    "#                               END OF YOUR CODE                                #\n",
    "#################################################################################\n",
    "print()\n",
    "for hs, lr, reg, lrd in sorted(results):\n",
    "    train_accuracy, val_accuracy = results[(hs,lr, reg,lrd)]\n",
    "    print ('hs: %e lr: %e reg: %e lr_decay: %e train accuracy: %f val accuracy: %f' % (\n",
    "                hs,lr, reg,lrd, train_accuracy, val_accuracy))\n",
    "    \n",
    "print ('best validation accuracy achieved during cross-validation: %f' % best_val)\n"
   ]
  },
  {
   "cell_type": "markdown",
   "metadata": {},
   "source": [
    "# Run on the test set\n",
    "When you are done experimenting, you should evaluate your final trained network on the test set. "
   ]
  },
  {
   "cell_type": "code",
   "execution_count": 15,
   "metadata": {},
   "outputs": [
    {
     "name": "stdout",
     "output_type": "stream",
     "text": [
      "Test accuracy:  0.944944944944945\n"
     ]
    }
   ],
   "source": [
    "best_net.train(X_train, y_train, X_val, y_val,\n",
    "                num_iters=5000, batch_size=200,\n",
    "                learning_rate=best_hps[0], \n",
    "                learning_rate_decay=0.95,\n",
    "                reg=best_hps[1])\n",
    "test_acc = (best_net.predict(X_test) == y_test).mean()\n",
    "print ('Test accuracy: ', test_acc)"
   ]
  },
  {
   "cell_type": "code",
   "execution_count": null,
   "metadata": {},
   "outputs": [],
   "source": []
  }
 ],
 "metadata": {
  "kernelspec": {
   "display_name": "Python 3",
   "language": "python",
   "name": "python3"
  },
  "language_info": {
   "codemirror_mode": {
    "name": "ipython",
    "version": 3
   },
   "file_extension": ".py",
   "mimetype": "text/x-python",
   "name": "python",
   "nbconvert_exporter": "python",
   "pygments_lexer": "ipython3",
   "version": "3.7.1rc2"
  }
 },
 "nbformat": 4,
 "nbformat_minor": 1
}
