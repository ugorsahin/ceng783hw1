{
 "cells": [
  {
   "cell_type": "code",
   "execution_count": 1,
   "metadata": {},
   "outputs": [],
   "source": [
    "import numpy as np\n"
   ]
  },
  {
   "cell_type": "code",
   "execution_count": 8,
   "metadata": {},
   "outputs": [],
   "source": [
    "def softmax(vals):\n",
    "    exps = np.exp(X - max(X))\n",
    "    softs = exps / np.sum(exps)"
   ]
  },
  {
   "cell_type": "code",
   "execution_count": 95,
   "metadata": {
    "scrolled": true
   },
   "outputs": [
    {
     "name": "stdout",
     "output_type": "stream",
     "text": [
      "[-0.21798743  0.9165464  -0.06446919 -0.25333841 -0.0257991 ]\n",
      "0.9165463962180775\n",
      "[0.32157199 1.         0.37493013 0.3104027  0.38971269]\n",
      "[0.30589088 0.5620884  0.24234035 0.18593558 0.26156896]\n",
      "1.0\n",
      "[0.5620884  0.64636136 0.59901407]\n",
      "[0.57609615 0.43639654 0.5124702 ]\n"
     ]
    }
   ],
   "source": [
    "y_val = np.array([1,4,0,2,3])\n",
    "arr  = np.random.randn(3,5)\n",
    "vals = np.max(arr,axis=1)\n",
    "exps = np.exp(arr.T - vals)\n",
    "sums  = np.sum(exps,axis=1)\n",
    "nrml = np.divide(exps.T,sums).T\n",
    "logs = np.log(np.max(nrml,axis=0))\n",
    "print(arr[0])\n",
    "print(vals[0])\n",
    "print(exps.T[0])\n",
    "print(nrml.T[0])\n",
    "print(np.sum(nrml[0]))\n",
    "print(np.max(nrml,axis=0))\n",
    "print(-logs)"
   ]
  },
  {
   "cell_type": "code",
   "execution_count": 94,
   "metadata": {},
   "outputs": [
    {
     "data": {
      "text/plain": [
       "9.972879619999999"
      ]
     },
     "execution_count": 94,
     "metadata": {},
     "output_type": "execute_result"
    }
   ],
   "source": [
    "sum([0.99761376, 0.99701684 ,0.99753324, 0.99634498 ,0.99586836, 0.99723335,\n",
    " 0.99729482, 0.99784725 ,0.9982115,  0.99791552])"
   ]
  },
  {
   "cell_type": "code",
   "execution_count": 96,
   "metadata": {},
   "outputs": [
    {
     "data": {
      "text/plain": [
       "array([0., 1., 2.])"
      ]
     },
     "execution_count": 96,
     "metadata": {},
     "output_type": "execute_result"
    }
   ],
   "source": [
    "np.arange(3.0)"
   ]
  },
  {
   "cell_type": "code",
   "execution_count": 97,
   "metadata": {},
   "outputs": [],
   "source": [
    "k = np.random.randn(4,5)"
   ]
  },
  {
   "cell_type": "code",
   "execution_count": 117,
   "metadata": {},
   "outputs": [
    {
     "name": "stdout",
     "output_type": "stream",
     "text": [
      "[[ 1.44257381 -0.32342283 -1.48228297  0.35923394  2.0234265 ]\n",
      " [-0.01587491 -0.16713283 -1.52023518 -0.19259175 -1.35606604]\n",
      " [ 1.20796039 -0.22300958 -0.86948341 -0.0803711  -1.68593726]\n",
      " [ 0.71527122  2.13445569 -0.73988036  1.25085819 -1.69847284]]\n"
     ]
    },
    {
     "data": {
      "text/plain": [
       "array([[4],\n",
       "       [0],\n",
       "       [0],\n",
       "       [1]], dtype=int64)"
      ]
     },
     "execution_count": 117,
     "metadata": {},
     "output_type": "execute_result"
    }
   ],
   "source": [
    "print(k)\n",
    "np.expand_dims(np.argmax(k,axis=1),axis=1)"
   ]
  },
  {
   "cell_type": "code",
   "execution_count": null,
   "metadata": {},
   "outputs": [],
   "source": []
  }
 ],
 "metadata": {
  "kernelspec": {
   "display_name": "Python 3",
   "language": "python",
   "name": "python3"
  },
  "language_info": {
   "codemirror_mode": {
    "name": "ipython",
    "version": 3
   },
   "file_extension": ".py",
   "mimetype": "text/x-python",
   "name": "python",
   "nbconvert_exporter": "python",
   "pygments_lexer": "ipython3",
   "version": "3.7.1rc2"
  }
 },
 "nbformat": 4,
 "nbformat_minor": 2
}
